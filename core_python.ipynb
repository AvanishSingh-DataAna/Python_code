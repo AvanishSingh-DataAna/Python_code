{
 "cells": [
  {
   "cell_type": "markdown",
   "metadata": {},
   "source": [
    "# string functions"
   ]
  },
  {
   "cell_type": "markdown",
   "metadata": {},
   "source": [
    "# #input()-: to take the input from the user"
   ]
  },
  {
   "cell_type": "code",
   "execution_count": 1,
   "metadata": {},
   "outputs": [
    {
     "name": "stdout",
     "output_type": "stream",
     "text": [
      "Enter your name avanish\n"
     ]
    }
   ],
   "source": [
    "\n",
    "\n",
    "name  = input(\"Enter your name \")\n",
    "\n"
   ]
  },
  {
   "cell_type": "code",
   "execution_count": 2,
   "metadata": {},
   "outputs": [
    {
     "data": {
      "text/plain": [
       "'avanish'"
      ]
     },
     "execution_count": 2,
     "metadata": {},
     "output_type": "execute_result"
    }
   ],
   "source": [
    "name"
   ]
  },
  {
   "cell_type": "code",
   "execution_count": 3,
   "metadata": {},
   "outputs": [
    {
     "name": "stdout",
     "output_type": "stream",
     "text": [
      "<class 'str'>\n"
     ]
    }
   ],
   "source": [
    "print(type(name))"
   ]
  },
  {
   "cell_type": "code",
   "execution_count": 4,
   "metadata": {},
   "outputs": [],
   "source": [
    "# type casting\n",
    "# int()\n",
    "#float()\n",
    "# bool()\n",
    "# complex()"
   ]
  },
  {
   "cell_type": "code",
   "execution_count": 5,
   "metadata": {},
   "outputs": [
    {
     "name": "stdout",
     "output_type": "stream",
     "text": [
      "Enter any number 5\n"
     ]
    }
   ],
   "source": [
    "num = int(input(\"Enter any number \"))\n"
   ]
  },
  {
   "cell_type": "code",
   "execution_count": 6,
   "metadata": {},
   "outputs": [
    {
     "name": "stdout",
     "output_type": "stream",
     "text": [
      "5\n"
     ]
    }
   ],
   "source": [
    "print(num)"
   ]
  },
  {
   "cell_type": "code",
   "execution_count": 7,
   "metadata": {},
   "outputs": [
    {
     "name": "stdout",
     "output_type": "stream",
     "text": [
      "<class 'int'>\n"
     ]
    }
   ],
   "source": [
    "print(type(num))"
   ]
  },
  {
   "cell_type": "code",
   "execution_count": 8,
   "metadata": {},
   "outputs": [
    {
     "name": "stdout",
     "output_type": "stream",
     "text": [
      "Enter any number 5\n"
     ]
    }
   ],
   "source": [
    "num1 = input(\"Enter any number \")\n"
   ]
  },
  {
   "cell_type": "code",
   "execution_count": 9,
   "metadata": {},
   "outputs": [
    {
     "name": "stdout",
     "output_type": "stream",
     "text": [
      "5 <class 'str'>\n"
     ]
    }
   ],
   "source": [
    "print(int(num1), type(num1))"
   ]
  },
  {
   "cell_type": "markdown",
   "metadata": {},
   "source": [
    "## split()"
   ]
  },
  {
   "cell_type": "code",
   "execution_count": 10,
   "metadata": {},
   "outputs": [
    {
     "name": "stdout",
     "output_type": "stream",
     "text": [
      "['hello', 'how', 'are', 'you', 'hope', 'you', 'are', 'doing', 'well']\n"
     ]
    }
   ],
   "source": [
    "s = \"hello how are you hope you are doing well\"\n",
    "print(s.split(' '))"
   ]
  },
  {
   "cell_type": "code",
   "execution_count": 11,
   "metadata": {},
   "outputs": [
    {
     "name": "stdout",
     "output_type": "stream",
     "text": [
      "Enter the path of your file:D:python.org\n",
      "D:python.org\n"
     ]
    }
   ],
   "source": [
    "file = input(\"Enter the path of your file:\")\n",
    "res = file.split('/')[-1]\n",
    "print(res)\n"
   ]
  },
  {
   "cell_type": "code",
   "execution_count": null,
   "metadata": {},
   "outputs": [],
   "source": []
  },
  {
   "cell_type": "markdown",
   "metadata": {},
   "source": [
    "## find()\n",
    "## index()"
   ]
  },
  {
   "cell_type": "code",
   "execution_count": 12,
   "metadata": {},
   "outputs": [
    {
     "name": "stdout",
     "output_type": "stream",
     "text": [
      "14\n"
     ]
    }
   ],
   "source": [
    "\n",
    "\n",
    "s = \"hello how are you hope you are doing well\"\n",
    "res = s.find('you')\n",
    "print(res)"
   ]
  },
  {
   "cell_type": "code",
   "execution_count": 13,
   "metadata": {
    "scrolled": true
   },
   "outputs": [
    {
     "name": "stdout",
     "output_type": "stream",
     "text": [
      "14\n"
     ]
    }
   ],
   "source": [
    "s = \"hello how are you hope you are doing well\"\n",
    "res = s.index('you')\n",
    "print(res)"
   ]
  },
  {
   "cell_type": "code",
   "execution_count": 14,
   "metadata": {},
   "outputs": [
    {
     "name": "stdout",
     "output_type": "stream",
     "text": [
      "6\n"
     ]
    }
   ],
   "source": [
    "res = s.find('how are you hope you are doing w')\n",
    "print(res)"
   ]
  },
  {
   "cell_type": "code",
   "execution_count": 15,
   "metadata": {},
   "outputs": [
    {
     "name": "stdout",
     "output_type": "stream",
     "text": [
      "-1\n"
     ]
    }
   ],
   "source": [
    "res1 = s.find('am')\n",
    "print(res1)"
   ]
  },
  {
   "cell_type": "code",
   "execution_count": 16,
   "metadata": {},
   "outputs": [
    {
     "ename": "ValueError",
     "evalue": "substring not found",
     "output_type": "error",
     "traceback": [
      "\u001b[1;31m---------------------------------------------------------------------------\u001b[0m",
      "\u001b[1;31mValueError\u001b[0m                                Traceback (most recent call last)",
      "\u001b[1;32m<ipython-input-16-9e39075ddedb>\u001b[0m in \u001b[0;36m<module>\u001b[1;34m\u001b[0m\n\u001b[1;32m----> 1\u001b[1;33m \u001b[0mres1\u001b[0m \u001b[1;33m=\u001b[0m \u001b[0ms\u001b[0m\u001b[1;33m.\u001b[0m\u001b[0mindex\u001b[0m\u001b[1;33m(\u001b[0m\u001b[1;34m'am'\u001b[0m\u001b[1;33m)\u001b[0m\u001b[1;33m\u001b[0m\u001b[1;33m\u001b[0m\u001b[0m\n\u001b[0m\u001b[0;32m      2\u001b[0m \u001b[0mprint\u001b[0m\u001b[1;33m(\u001b[0m\u001b[0mres1\u001b[0m\u001b[1;33m)\u001b[0m\u001b[1;33m\u001b[0m\u001b[1;33m\u001b[0m\u001b[0m\n",
      "\u001b[1;31mValueError\u001b[0m: substring not found"
     ]
    }
   ],
   "source": [
    "res1 = s.index('am')\n",
    "print(res1)"
   ]
  },
  {
   "cell_type": "code",
   "execution_count": null,
   "metadata": {},
   "outputs": [],
   "source": [
    "#"
   ]
  },
  {
   "cell_type": "code",
   "execution_count": 17,
   "metadata": {},
   "outputs": [
    {
     "name": "stdout",
     "output_type": "stream",
     "text": [
      "2\n"
     ]
    }
   ],
   "source": [
    "s = \"hello how are you hope you are doing well\"\n",
    "print(s.count('are'))"
   ]
  },
  {
   "cell_type": "code",
   "execution_count": null,
   "metadata": {},
   "outputs": [],
   "source": [
    "print(s.count('a'))"
   ]
  },
  {
   "cell_type": "code",
   "execution_count": null,
   "metadata": {},
   "outputs": [],
   "source": [
    "print(s.count('o'))"
   ]
  },
  {
   "cell_type": "code",
   "execution_count": null,
   "metadata": {},
   "outputs": [],
   "source": [
    "print(len(s))"
   ]
  },
  {
   "cell_type": "code",
   "execution_count": null,
   "metadata": {},
   "outputs": [],
   "source": [
    "# join\n",
    "name  = \"Avanish\"\n",
    "res = '+'.join(name)\n",
    "print(res)"
   ]
  },
  {
   "cell_type": "code",
   "execution_count": null,
   "metadata": {},
   "outputs": [],
   "source": [
    "res = '-'.join(name)\n",
    "print(res)"
   ]
  },
  {
   "cell_type": "code",
   "execution_count": null,
   "metadata": {},
   "outputs": [],
   "source": [
    "res = ','.join(name)\n",
    "print(res)"
   ]
  },
  {
   "cell_type": "code",
   "execution_count": null,
   "metadata": {},
   "outputs": [],
   "source": [
    "# list()"
   ]
  },
  {
   "cell_type": "code",
   "execution_count": null,
   "metadata": {},
   "outputs": [],
   "source": [
    "# it is sequential data type that stores hetrogeneous type of data.\n",
    "li = [1, \"avanish\", \"delhi\",25, 300000]\n",
    "print(li)"
   ]
  },
  {
   "cell_type": "code",
   "execution_count": null,
   "metadata": {},
   "outputs": [],
   "source": [
    "# in list order is preserved"
   ]
  },
  {
   "cell_type": "code",
   "execution_count": null,
   "metadata": {},
   "outputs": [],
   "source": [
    "print(len(li))"
   ]
  },
  {
   "cell_type": "code",
   "execution_count": null,
   "metadata": {},
   "outputs": [],
   "source": [
    "print(li[3])"
   ]
  },
  {
   "cell_type": "code",
   "execution_count": null,
   "metadata": {},
   "outputs": [],
   "source": [
    "print(li[1][2])"
   ]
  },
  {
   "cell_type": "code",
   "execution_count": null,
   "metadata": {},
   "outputs": [],
   "source": [
    "# mutability/immutability"
   ]
  },
  {
   "cell_type": "code",
   "execution_count": null,
   "metadata": {},
   "outputs": [],
   "source": [
    "name  = \"Avanish singh\"\n",
    "i = name.find('s')\n",
    "name[i] = 'm'\n",
    "print(name)"
   ]
  },
  {
   "cell_type": "code",
   "execution_count": null,
   "metadata": {},
   "outputs": [],
   "source": [
    "li = [1, \"avanish\", \"delhi\",25, 300000]\n",
    "li[1] = 'Vasu'\n",
    "print(li)\n"
   ]
  },
  {
   "cell_type": "code",
   "execution_count": null,
   "metadata": {},
   "outputs": [],
   "source": [
    "li = [1, \"avanish\", \"delhi\",25, 300000]\n",
    "li[1][3] = 'm'\n",
    "print(li)"
   ]
  },
  {
   "cell_type": "code",
   "execution_count": null,
   "metadata": {},
   "outputs": [],
   "source": [
    "li = [1, \"avanish\", \"delhi\",25, 300000]\n",
    "res = li.index('delhi')\n",
    "print(res)"
   ]
  },
  {
   "cell_type": "code",
   "execution_count": null,
   "metadata": {},
   "outputs": [],
   "source": [
    "res = li.index('a')\n",
    "print(res)"
   ]
  },
  {
   "cell_type": "code",
   "execution_count": null,
   "metadata": {},
   "outputs": [],
   "source": [
    "li = [1, \"avanish\", \"delhi\",25, 300000]\n",
    "#apppend\n",
    "li.append('MCA')\n",
    "print(li)"
   ]
  },
  {
   "cell_type": "code",
   "execution_count": null,
   "metadata": {},
   "outputs": [],
   "source": [
    "li"
   ]
  },
  {
   "cell_type": "code",
   "execution_count": null,
   "metadata": {},
   "outputs": [],
   "source": [
    "li.append(1, 'vasu', 'delhi')"
   ]
  },
  {
   "cell_type": "code",
   "execution_count": null,
   "metadata": {},
   "outputs": [],
   "source": [
    "li.append([1, 'vasu', 'delhi'])"
   ]
  },
  {
   "cell_type": "code",
   "execution_count": null,
   "metadata": {},
   "outputs": [],
   "source": [
    "li"
   ]
  },
  {
   "cell_type": "code",
   "execution_count": null,
   "metadata": {},
   "outputs": [],
   "source": [
    "# list inside a list\n",
    "len(li)"
   ]
  },
  {
   "cell_type": "code",
   "execution_count": null,
   "metadata": {},
   "outputs": [],
   "source": [
    "li[6]"
   ]
  },
  {
   "cell_type": "code",
   "execution_count": null,
   "metadata": {},
   "outputs": [],
   "source": [
    "# extend\n",
    "li.extend([2, 'vasu', 'delhi'])"
   ]
  },
  {
   "cell_type": "code",
   "execution_count": null,
   "metadata": {},
   "outputs": [],
   "source": [
    "li"
   ]
  },
  {
   "cell_type": "code",
   "execution_count": null,
   "metadata": {},
   "outputs": [],
   "source": [
    "nli = [1, \"avanish\", \"delhi\",25, 300000]\n",
    "nli.extend([2,'vasu','delhi'])\n",
    "print(nli)"
   ]
  },
  {
   "cell_type": "code",
   "execution_count": null,
   "metadata": {},
   "outputs": [],
   "source": [
    "# insert()"
   ]
  },
  {
   "cell_type": "code",
   "execution_count": null,
   "metadata": {},
   "outputs": [],
   "source": [
    "nli"
   ]
  },
  {
   "cell_type": "code",
   "execution_count": null,
   "metadata": {},
   "outputs": [],
   "source": [
    "nli[2] = \"No\"\n",
    "print(nli)"
   ]
  },
  {
   "cell_type": "code",
   "execution_count": null,
   "metadata": {},
   "outputs": [],
   "source": [
    "li2 = [1, 'avanish', 'delhi', 25, 300000, 2, 'vasu', 'delhi']\n",
    "li2.insert(2,'Yes')\n",
    "print(li2)"
   ]
  },
  {
   "cell_type": "code",
   "execution_count": null,
   "metadata": {},
   "outputs": [],
   "source": [
    "#pop"
   ]
  },
  {
   "cell_type": "code",
   "execution_count": null,
   "metadata": {},
   "outputs": [],
   "source": [
    "li2"
   ]
  },
  {
   "cell_type": "code",
   "execution_count": null,
   "metadata": {},
   "outputs": [],
   "source": [
    "li2.pop()"
   ]
  },
  {
   "cell_type": "code",
   "execution_count": null,
   "metadata": {},
   "outputs": [],
   "source": [
    "li2"
   ]
  },
  {
   "cell_type": "code",
   "execution_count": null,
   "metadata": {},
   "outputs": [],
   "source": [
    "li2"
   ]
  },
  {
   "cell_type": "code",
   "execution_count": null,
   "metadata": {},
   "outputs": [],
   "source": [
    "li2.pop(-4)\n",
    "li2"
   ]
  },
  {
   "cell_type": "code",
   "execution_count": null,
   "metadata": {},
   "outputs": [],
   "source": [
    "# tuple()\n",
    "t = (1,\"rahu\",\"ddlj\", 123673, 1990)\n",
    "print(type(t))"
   ]
  },
  {
   "cell_type": "code",
   "execution_count": null,
   "metadata": {},
   "outputs": [],
   "source": [
    "# tuple stores random data\n",
    "t1 = 1,2,2,\"avanish\", \"avira\",8746,834.909\n",
    "print(t1)\n",
    "print(type(t1))"
   ]
  },
  {
   "cell_type": "code",
   "execution_count": null,
   "metadata": {},
   "outputs": [],
   "source": [
    "t1"
   ]
  },
  {
   "cell_type": "code",
   "execution_count": null,
   "metadata": {},
   "outputs": [],
   "source": [
    "print(t1[4])"
   ]
  },
  {
   "cell_type": "code",
   "execution_count": null,
   "metadata": {},
   "outputs": [],
   "source": [
    "t1[4] = \"Rahul\"\n",
    "print(t1)"
   ]
  },
  {
   "cell_type": "code",
   "execution_count": null,
   "metadata": {},
   "outputs": [],
   "source": [
    "x = list((1,2,3,4))\n",
    "print(x)"
   ]
  },
  {
   "cell_type": "code",
   "execution_count": null,
   "metadata": {},
   "outputs": [],
   "source": [
    "type(x)"
   ]
  },
  {
   "cell_type": "code",
   "execution_count": null,
   "metadata": {},
   "outputs": [],
   "source": [
    "y = tuple(1,4,55,6,3,34)\n",
    "print(y)"
   ]
  },
  {
   "cell_type": "code",
   "execution_count": null,
   "metadata": {},
   "outputs": [],
   "source": [
    "y = tuple((1,4,55,6,3,34))\n",
    "print(y)"
   ]
  },
  {
   "cell_type": "code",
   "execution_count": null,
   "metadata": {},
   "outputs": [],
   "source": [
    "type(y)"
   ]
  },
  {
   "cell_type": "code",
   "execution_count": null,
   "metadata": {},
   "outputs": [],
   "source": [
    "type(x)"
   ]
  },
  {
   "cell_type": "code",
   "execution_count": null,
   "metadata": {},
   "outputs": [],
   "source": [
    "z = tuple([1,4,55,6,3,34])\n",
    "print(z)\n",
    "print(type(z))"
   ]
  },
  {
   "cell_type": "code",
   "execution_count": null,
   "metadata": {},
   "outputs": [],
   "source": [
    "# dict\n",
    "\n",
    "# it stores the data in the form of key and value\n",
    "# it does not work on index, it works on key\n",
    "# key and value can be of any data type\n",
    "# key can not be duplicate but value can\n",
    "# dictionary is mutable"
   ]
  },
  {
   "cell_type": "code",
   "execution_count": null,
   "metadata": {},
   "outputs": [],
   "source": [
    "di = {'id':1001, 'name':'Avanish', 'Age':25, 2324: 56.90, 'comp':20+56j}\n",
    "print(di)"
   ]
  },
  {
   "cell_type": "code",
   "execution_count": null,
   "metadata": {},
   "outputs": [],
   "source": [
    "print(di['Age'])"
   ]
  },
  {
   "cell_type": "code",
   "execution_count": null,
   "metadata": {},
   "outputs": [],
   "source": [
    "print('Age')"
   ]
  },
  {
   "cell_type": "code",
   "execution_count": null,
   "metadata": {},
   "outputs": [],
   "source": [
    "print(di['comp'])"
   ]
  },
  {
   "cell_type": "code",
   "execution_count": null,
   "metadata": {},
   "outputs": [],
   "source": [
    "print(di[2324])"
   ]
  },
  {
   "cell_type": "code",
   "execution_count": null,
   "metadata": {},
   "outputs": [],
   "source": [
    "# mapping data type"
   ]
  },
  {
   "cell_type": "code",
   "execution_count": null,
   "metadata": {},
   "outputs": [],
   "source": [
    "di = {'id':1001, 'name':'Avanish', 'Age':25, 2324: 56.90, 'comp':20+56j}\n",
    "print(di)"
   ]
  },
  {
   "cell_type": "code",
   "execution_count": null,
   "metadata": {},
   "outputs": [],
   "source": [
    "print(di['id'])"
   ]
  },
  {
   "cell_type": "code",
   "execution_count": null,
   "metadata": {},
   "outputs": [],
   "source": [
    "print(di.keys())"
   ]
  },
  {
   "cell_type": "code",
   "execution_count": null,
   "metadata": {},
   "outputs": [],
   "source": [
    "print(di.values())"
   ]
  },
  {
   "cell_type": "code",
   "execution_count": null,
   "metadata": {},
   "outputs": [],
   "source": [
    "print(di.items())"
   ]
  },
  {
   "cell_type": "code",
   "execution_count": null,
   "metadata": {},
   "outputs": [],
   "source": [
    "di"
   ]
  },
  {
   "cell_type": "code",
   "execution_count": null,
   "metadata": {},
   "outputs": [],
   "source": [
    "di['Age']=30\n",
    "print(di)"
   ]
  },
  {
   "cell_type": "code",
   "execution_count": null,
   "metadata": {},
   "outputs": [],
   "source": [
    "di"
   ]
  },
  {
   "cell_type": "code",
   "execution_count": null,
   "metadata": {},
   "outputs": [],
   "source": [
    "d2 = {'city':'Delhi', 'windspeed':12, 'temprature':38}"
   ]
  },
  {
   "cell_type": "code",
   "execution_count": null,
   "metadata": {},
   "outputs": [],
   "source": [
    "di.update(d2)\n",
    "print(di)"
   ]
  },
  {
   "cell_type": "code",
   "execution_count": null,
   "metadata": {},
   "outputs": [],
   "source": [
    "di"
   ]
  },
  {
   "cell_type": "code",
   "execution_count": null,
   "metadata": {},
   "outputs": [],
   "source": [
    "print(di)"
   ]
  },
  {
   "cell_type": "code",
   "execution_count": null,
   "metadata": {},
   "outputs": [],
   "source": [
    "# set data type"
   ]
  },
  {
   "cell_type": "code",
   "execution_count": null,
   "metadata": {},
   "outputs": [],
   "source": [
    "s = set()\n",
    "type(s)"
   ]
  },
  {
   "cell_type": "code",
   "execution_count": null,
   "metadata": {},
   "outputs": [],
   "source": [
    "s1 = {}\n",
    "print(type(s1))\n"
   ]
  },
  {
   "cell_type": "code",
   "execution_count": null,
   "metadata": {},
   "outputs": [],
   "source": [
    "s2 = {1,2,6,7,11,4,3,8}\n",
    "print(s2)\n",
    "print(type(s2))"
   ]
  },
  {
   "cell_type": "code",
   "execution_count": null,
   "metadata": {},
   "outputs": [],
   "source": [
    "# set mutable\n",
    "# set dose not preserve order\n",
    "# it dose not contain duplicates"
   ]
  },
  {
   "cell_type": "code",
   "execution_count": null,
   "metadata": {},
   "outputs": [],
   "source": [
    "s3 = {1,2,5,8,5,3,8,9,3,4,2}\n",
    "print(s3)"
   ]
  },
  {
   "cell_type": "code",
   "execution_count": null,
   "metadata": {},
   "outputs": [],
   "source": [
    "s3.add(50)\n",
    "print(s3)"
   ]
  },
  {
   "cell_type": "code",
   "execution_count": null,
   "metadata": {},
   "outputs": [],
   "source": [
    "s3.remove(8)\n",
    "print(s3)"
   ]
  },
  {
   "cell_type": "code",
   "execution_count": null,
   "metadata": {},
   "outputs": [],
   "source": [
    "s2"
   ]
  },
  {
   "cell_type": "code",
   "execution_count": null,
   "metadata": {},
   "outputs": [],
   "source": [
    "s3"
   ]
  },
  {
   "cell_type": "code",
   "execution_count": null,
   "metadata": {},
   "outputs": [],
   "source": [
    "s2.union(s3)"
   ]
  },
  {
   "cell_type": "code",
   "execution_count": null,
   "metadata": {},
   "outputs": [],
   "source": [
    "s2.intersection(s3)"
   ]
  },
  {
   "cell_type": "code",
   "execution_count": null,
   "metadata": {},
   "outputs": [],
   "source": [
    "s2.difference(s3)"
   ]
  },
  {
   "cell_type": "code",
   "execution_count": null,
   "metadata": {},
   "outputs": [],
   "source": [
    "s2.issubset(s3)"
   ]
  },
  {
   "cell_type": "code",
   "execution_count": null,
   "metadata": {},
   "outputs": [],
   "source": [
    "s2.isdisjoint(s3)"
   ]
  },
  {
   "cell_type": "code",
   "execution_count": null,
   "metadata": {},
   "outputs": [],
   "source": [
    "s2"
   ]
  },
  {
   "cell_type": "code",
   "execution_count": null,
   "metadata": {},
   "outputs": [],
   "source": [
    "s3"
   ]
  },
  {
   "cell_type": "code",
   "execution_count": null,
   "metadata": {},
   "outputs": [],
   "source": [
    "s4 = {100,200}\n"
   ]
  },
  {
   "cell_type": "code",
   "execution_count": null,
   "metadata": {},
   "outputs": [],
   "source": [
    "s2.isdisjoint(s4)"
   ]
  },
  {
   "cell_type": "code",
   "execution_count": null,
   "metadata": {},
   "outputs": [],
   "source": [
    "# slicing in python\n",
    "\n",
    "# syntax -: var_name[start_position:stop_posistion:steps] # stop-1\n",
    "\n",
    "x = \"avanish singh\"\n",
    "print(x[1])\n"
   ]
  },
  {
   "cell_type": "code",
   "execution_count": null,
   "metadata": {},
   "outputs": [],
   "source": [
    "x = \"avanish singh\"\n",
    "print(x[2:7])"
   ]
  },
  {
   "cell_type": "code",
   "execution_count": null,
   "metadata": {},
   "outputs": [],
   "source": [
    "print(x[:])"
   ]
  },
  {
   "cell_type": "code",
   "execution_count": null,
   "metadata": {},
   "outputs": [],
   "source": [
    "print(x[::])"
   ]
  },
  {
   "cell_type": "code",
   "execution_count": null,
   "metadata": {},
   "outputs": [],
   "source": [
    "print(x[3:])"
   ]
  },
  {
   "cell_type": "code",
   "execution_count": null,
   "metadata": {},
   "outputs": [],
   "source": [
    "print(x[3:100])"
   ]
  },
  {
   "cell_type": "code",
   "execution_count": null,
   "metadata": {},
   "outputs": [],
   "source": [
    "x"
   ]
  },
  {
   "cell_type": "code",
   "execution_count": null,
   "metadata": {},
   "outputs": [],
   "source": [
    "print(x[-1:-6])"
   ]
  },
  {
   "cell_type": "code",
   "execution_count": null,
   "metadata": {},
   "outputs": [],
   "source": [
    "print(x[-1:-6:-1])"
   ]
  },
  {
   "cell_type": "code",
   "execution_count": null,
   "metadata": {},
   "outputs": [],
   "source": [
    "print(x[::-1])"
   ]
  },
  {
   "cell_type": "code",
   "execution_count": null,
   "metadata": {},
   "outputs": [],
   "source": [
    "n = [1, 'avanish', 'Yes', 'delhi', 25, 300000, 2, 'vasu', 'delhi']\n",
    "print(n[1:4])"
   ]
  },
  {
   "cell_type": "code",
   "execution_count": null,
   "metadata": {},
   "outputs": [],
   "source": [
    "print(n[-3::-1])"
   ]
  },
  {
   "cell_type": "code",
   "execution_count": null,
   "metadata": {},
   "outputs": [],
   "source": [
    "print(n[-3:-7:-1])"
   ]
  },
  {
   "cell_type": "code",
   "execution_count": null,
   "metadata": {},
   "outputs": [],
   "source": [
    "d2 = {'dates':['25/03/2021','23/03/2021','26/03/2021','22/03/2021','20/03/2021'],\n",
    "     'city':['delhi','mumbai','chennai','ahamdabad','varanshi'],\n",
    "     'temprature':[32,37,41,33,34]}\n",
    "print(d2)"
   ]
  },
  {
   "cell_type": "code",
   "execution_count": null,
   "metadata": {},
   "outputs": [],
   "source": [
    "print(d2['dates'][1])"
   ]
  },
  {
   "cell_type": "code",
   "execution_count": null,
   "metadata": {},
   "outputs": [],
   "source": [
    "print(d2['city'][1])"
   ]
  },
  {
   "cell_type": "code",
   "execution_count": null,
   "metadata": {},
   "outputs": [],
   "source": [
    "print(d2['temprature'][1])"
   ]
  },
  {
   "cell_type": "code",
   "execution_count": null,
   "metadata": {},
   "outputs": [],
   "source": [
    "# operators\n",
    "# %\n",
    "# // -: floor division\n",
    "# / -:division"
   ]
  },
  {
   "cell_type": "code",
   "execution_count": null,
   "metadata": {},
   "outputs": [],
   "source": [
    "a = 10\n",
    "b = 3\n",
    "print(a/b)\n",
    "print(a//b)"
   ]
  },
  {
   "cell_type": "code",
   "execution_count": null,
   "metadata": {},
   "outputs": [],
   "source": [
    "print(a**b)"
   ]
  },
  {
   "cell_type": "code",
   "execution_count": null,
   "metadata": {},
   "outputs": [],
   "source": [
    "print(a%b)"
   ]
  },
  {
   "cell_type": "code",
   "execution_count": null,
   "metadata": {},
   "outputs": [],
   "source": [
    "#relational operator\n",
    "print(a>b)"
   ]
  },
  {
   "cell_type": "code",
   "execution_count": null,
   "metadata": {},
   "outputs": [],
   "source": [
    "c =12\n",
    "d =15\n",
    "# cjaining of operations\n",
    "print(a>b>c>d)"
   ]
  },
  {
   "cell_type": "code",
   "execution_count": null,
   "metadata": {},
   "outputs": [],
   "source": [
    "print(a>b<c<d)"
   ]
  },
  {
   "cell_type": "code",
   "execution_count": null,
   "metadata": {},
   "outputs": [],
   "source": [
    "# logical operator\n",
    "# and &&\n",
    "# or  ||\n",
    "# not   !"
   ]
  },
  {
   "cell_type": "code",
   "execution_count": null,
   "metadata": {},
   "outputs": [],
   "source": [
    "#= Asignment operator\n",
    "#== eqality operator"
   ]
  },
  {
   "cell_type": "code",
   "execution_count": null,
   "metadata": {},
   "outputs": [],
   "source": [
    "x = \"avanish\"\n",
    "y = \"Singh\"\n",
    "print(x==y)\n"
   ]
  },
  {
   "cell_type": "code",
   "execution_count": null,
   "metadata": {},
   "outputs": [],
   "source": [
    "# special operator\n",
    "# 1. identity operator -: is , is not # compare memory addresses\n",
    "# 2. membership operator-:  in, in not\n",
    "\n"
   ]
  },
  {
   "cell_type": "code",
   "execution_count": null,
   "metadata": {},
   "outputs": [],
   "source": [
    "x = 10\n",
    "y = 20\n",
    "print(x is y)\n"
   ]
  },
  {
   "cell_type": "code",
   "execution_count": null,
   "metadata": {},
   "outputs": [],
   "source": [
    "x = 10\n",
    "y = 20\n",
    "z = 20\n",
    "print(y is z)"
   ]
  },
  {
   "cell_type": "code",
   "execution_count": null,
   "metadata": {},
   "outputs": [],
   "source": [
    "m = [1,3,7,2,8]\n",
    "n = [1,3,7,2,8]\n",
    "print(m is n)"
   ]
  },
  {
   "cell_type": "code",
   "execution_count": null,
   "metadata": {},
   "outputs": [],
   "source": [
    "m = [1,3,7,2,8]\n",
    "n = [1,3,7,2,8]\n",
    "print(m is not n)"
   ]
  },
  {
   "cell_type": "code",
   "execution_count": null,
   "metadata": {},
   "outputs": [],
   "source": [
    "# 2. membership operator-:  in, not in"
   ]
  },
  {
   "cell_type": "code",
   "execution_count": null,
   "metadata": {},
   "outputs": [],
   "source": [
    "m = [1,3,7,2,8]\n",
    "print(2 in m)"
   ]
  },
  {
   "cell_type": "code",
   "execution_count": null,
   "metadata": {},
   "outputs": [],
   "source": [
    "m = [1,3,7,2,8]\n",
    "print(10 not in m)"
   ]
  },
  {
   "cell_type": "code",
   "execution_count": null,
   "metadata": {},
   "outputs": [],
   "source": [
    "colors = ['red','blue','green','yellow','black']\n",
    "print('blue' not in colors)"
   ]
  },
  {
   "cell_type": "code",
   "execution_count": null,
   "metadata": {},
   "outputs": [],
   "source": [
    "# condiotional statements\n"
   ]
  },
  {
   "cell_type": "code",
   "execution_count": null,
   "metadata": {},
   "outputs": [],
   "source": [
    "age = int(input(\"Enter Your age:\"))\n",
    "if age>18: #T #F  14>18 #F\n",
    "    print(\"You are adult\")\n",
    "    \n",
    "# whenver if condition gets true interpreter sends the control inside that if\n",
    "# whenver if condition gets false interpreter sends the control outside that if."
   ]
  },
  {
   "cell_type": "code",
   "execution_count": null,
   "metadata": {},
   "outputs": [],
   "source": [
    "age = int(input(\"Enter Your age:\"))#17\n",
    "if age>18: #T #F  14>18 #F #T #F\n",
    "    print(\"You are adult\")\n",
    "print(\"Your are not adult\")\n",
    "    "
   ]
  },
  {
   "cell_type": "code",
   "execution_count": null,
   "metadata": {},
   "outputs": [],
   "source": [
    "age = int(input(\"Enter Your age:\"))\n",
    "if age>18: #T #F  14>18 #F #23 #13\n",
    "    print(\"You are adult\")\n",
    "else:\n",
    "    print(\"Your are not adult\")"
   ]
  },
  {
   "cell_type": "code",
   "execution_count": null,
   "metadata": {},
   "outputs": [],
   "source": [
    "uname = input(\"Enter Your Username:\")\n",
    "pasw = input(\"Enter Your Password:\")\n",
    "if uname==\"python\" and pasw==\"12345\":\n",
    "    print(\"You credentials are correct\")\n",
    "else:\n",
    "    print(\"Your credentials are wrong\")\n"
   ]
  },
  {
   "cell_type": "code",
   "execution_count": null,
   "metadata": {},
   "outputs": [],
   "source": [
    "height = float(input(\"Enter Your height:\"))\n",
    "weight = float(input(\"Enter Your Weight:\"))\n",
    "bmi = weight/height**2\n",
    "print(bmi)\n",
    "if bmi<15:\n",
    "    print(\"Very Severely inderweighted\")\n",
    "elif bmi<16:\n",
    "    print(\"severely underweighted\")\n",
    "elif bmi<18.5:\n",
    "    print(\"Normal Weighted\")\n",
    "\n",
    "    "
   ]
  },
  {
   "cell_type": "code",
   "execution_count": null,
   "metadata": {},
   "outputs": [],
   "source": [
    "n1 = 10\n",
    "n2 = 20\n",
    "n3 = 15\n",
    "if n1>n2:\n",
    "    if n1>n3:\n",
    "        print(\"N1 is the greates\")\n",
    "    else:\n",
    "        print(\"N3 is the greates\")\n",
    "else:\n",
    "    if n2>n3:\n",
    "        print(\"N2 is the greatest\")\n",
    "    else:\n",
    "        print(\"N3 is the greates\")"
   ]
  },
  {
   "cell_type": "code",
   "execution_count": null,
   "metadata": {},
   "outputs": [],
   "source": [
    "# fstring\n",
    "\n",
    "n1 = 10\n",
    "n2 = 20\n",
    "n3 = 15\n",
    "if n1>n2:\n",
    "    if n1>n3:\n",
    "        print(f\"{n1} is the greates\")\n",
    "    else:\n",
    "        print(f\"{n3} is greates\")\n",
    "else:\n",
    "    if n2>n3:\n",
    "        print(f\"{n2} is the greatest\")\n",
    "    else:\n",
    "        print(f\"{n3} is the greatest\")"
   ]
  },
  {
   "cell_type": "code",
   "execution_count": null,
   "metadata": {},
   "outputs": [],
   "source": [
    "# multiple if or ladder if\n",
    "'''\n",
    "if cond1:\n",
    "    statements\n",
    "if cond2:\n",
    "    statements\n",
    "if cond3:\n",
    "    statement\n",
    "if cond4:\n",
    "    statement\n",
    "else:\n",
    "    \n",
    "    \n",
    "'''\n"
   ]
  },
  {
   "cell_type": "code",
   "execution_count": null,
   "metadata": {},
   "outputs": [],
   "source": [
    "n1=10\n",
    "n2=6\n",
    "if n1<20:\n",
    "    print(\"first\")\n",
    "if n2<10:\n",
    "    print(\"second\")"
   ]
  },
  {
   "cell_type": "code",
   "execution_count": null,
   "metadata": {},
   "outputs": [],
   "source": [
    "#LOOPS"
   ]
  },
  {
   "cell_type": "code",
   "execution_count": null,
   "metadata": {},
   "outputs": [],
   "source": [
    "li = [1, 'avanish', 'Yes', 'delhi', 25, 300000, 2, 'vasu', 'delhi']\n",
    "name = \"Avanish\"\n"
   ]
  },
  {
   "cell_type": "code",
   "execution_count": null,
   "metadata": {},
   "outputs": [],
   "source": [
    "# for loops \n",
    "# while loops"
   ]
  },
  {
   "cell_type": "code",
   "execution_count": null,
   "metadata": {},
   "outputs": [],
   "source": [
    "# in case of for loop i already kew how many times my loop is going to execute\n",
    "# syntax-: for var in sequence:"
   ]
  },
  {
   "cell_type": "code",
   "execution_count": null,
   "metadata": {},
   "outputs": [],
   "source": [
    "li = [1, 'avanish', 'Yes', 'delhi', 25, 300000, 2, 'vasu', 'delhi']\n",
    "for i in li:\n",
    "    print(i)\n",
    "    \n",
    "    "
   ]
  },
  {
   "cell_type": "code",
   "execution_count": null,
   "metadata": {},
   "outputs": [],
   "source": [
    "li = [1, 'avanish', 'Yes', 'delhi', 25, 300000, 2, 'vasu', 'delhi']\n",
    "for i in li:\n",
    "    print(i, end=',')"
   ]
  },
  {
   "cell_type": "code",
   "execution_count": null,
   "metadata": {},
   "outputs": [],
   "source": [
    "li = [1, 'avanish', 'Yes', 'delhi', 25, 300000, 2, 'vasu', 'delhi']\n",
    "for i in range(1,len(li)):\n",
    "    if i%2==0:\n",
    "        continue\n",
    "    else:\n",
    "        print(li[i])"
   ]
  },
  {
   "cell_type": "code",
   "execution_count": null,
   "metadata": {},
   "outputs": [],
   "source": [
    "x = \"vasu\"\n",
    "for i in x:\n",
    "    print(i,end=' ')"
   ]
  },
  {
   "cell_type": "code",
   "execution_count": null,
   "metadata": {},
   "outputs": [],
   "source": [
    "# range()\n"
   ]
  },
  {
   "cell_type": "code",
   "execution_count": null,
   "metadata": {},
   "outputs": [],
   "source": [
    "# range always works only on the for loop\n",
    "# returns sequence of numbers\n",
    "# syntax-: range(start_value:stop_value:step)"
   ]
  },
  {
   "cell_type": "code",
   "execution_count": null,
   "metadata": {},
   "outputs": [],
   "source": [
    "for i in range(1,101,5):\n",
    "    print(i, end=\",\")"
   ]
  },
  {
   "cell_type": "code",
   "execution_count": null,
   "metadata": {},
   "outputs": [],
   "source": [
    "li = []\n",
    "for i in range(1,101,5):\n",
    "    li.append(i)\n",
    "print(li)"
   ]
  },
  {
   "cell_type": "code",
   "execution_count": null,
   "metadata": {},
   "outputs": [],
   "source": [
    "li = []\n",
    "for i in range(1,101,5):\n",
    "    li.append(i)\n",
    "    print(li)"
   ]
  },
  {
   "cell_type": "code",
   "execution_count": null,
   "metadata": {},
   "outputs": [],
   "source": [
    "for i in range(5,51,5):\n",
    "    print(i)"
   ]
  },
  {
   "cell_type": "code",
   "execution_count": null,
   "metadata": {},
   "outputs": [],
   "source": [
    "n=5\n",
    "for i in range(1,11):\n",
    "    res = n*i\n",
    "    print(f\"{n}*{i}={res}\")"
   ]
  },
  {
   "cell_type": "code",
   "execution_count": null,
   "metadata": {},
   "outputs": [],
   "source": [
    "# nested for loops\n",
    "# for inside for\n",
    "\n",
    "for i in range(5,21):\n",
    "    for j in range(1,11):\n",
    "        print(f\"{i}*{j}={i*j}\")\n",
    "    print(\"----------------------------------------------------------\")\n"
   ]
  },
  {
   "cell_type": "code",
   "execution_count": null,
   "metadata": {},
   "outputs": [],
   "source": [
    "num = int(input(\"Enter any number:\"))\n",
    "# formula-: n! = n(n-1)!         # 5 = 5*(5-1)! = 5*4*3*2*1 = 120\n",
    "\n",
    "for i in range(num, 0, -1):\n",
    "    f = 1\n",
    "    f = f*i   #5 #20 #60 # 120 #120\n",
    "print(f)\n",
    "    "
   ]
  },
  {
   "cell_type": "code",
   "execution_count": null,
   "metadata": {},
   "outputs": [],
   "source": [
    "# fabnacci series\n",
    "# 0,1,1, 2, 3, 5, 8, 13, 21, 34\n",
    "turm = int(input(\"enter the number of turms:\"))\n",
    "f = 0\n",
    "s = 1\n",
    "for i in range(turm):\n",
    "    print(f)\n",
    "    #swapping\n",
    "    temp = f  #2 \n",
    "    f = s   #3\n",
    "    s = s+temp  #5\n"
   ]
  },
  {
   "cell_type": "code",
   "execution_count": null,
   "metadata": {},
   "outputs": [],
   "source": [
    "# prime numbers\n",
    "# 12\n",
    "num = int(input(\"Enter any number  to check prime or not:\"))\n",
    "for i in range(2, num):\n",
    "    if num%i==0:\n",
    "        print(f\"{num} Not a prime number\")\n",
    "        break\n",
    "else:\n",
    "    print(f\"{num} is prime number\")\n",
    "    \n",
    "# \n",
    "\n",
    "    \n",
    "\n"
   ]
  },
  {
   "cell_type": "code",
   "execution_count": null,
   "metadata": {},
   "outputs": [],
   "source": [
    "for i in range(1,201):\n",
    "    print(i)\n",
    "else:\n",
    "    print(\"These were the numbers\")"
   ]
  },
  {
   "cell_type": "code",
   "execution_count": null,
   "metadata": {},
   "outputs": [],
   "source": [
    "for i in range(50,201):\n",
    "    for j in range(2,i):\n",
    "        if i%j==0:\n",
    "            break\n",
    "    else:\n",
    "        print(i, end=' ')"
   ]
  },
  {
   "cell_type": "code",
   "execution_count": null,
   "metadata": {},
   "outputs": [],
   "source": [
    "li = [10,76,9,17,25,32,24]\n",
    "x = []\n",
    "for i in li:\n",
    "    if i%2==0:\n",
    "        x.append(i)\n",
    "print(x)\n",
    "\n"
   ]
  },
  {
   "cell_type": "code",
   "execution_count": null,
   "metadata": {},
   "outputs": [],
   "source": [
    "li = [10,76,9,17,25,32,24]\n",
    "x = []\n",
    "for i in range(0,7):\n",
    "    if li[i]%2==0:\n",
    "        #print(f\"Even Number is {li[i]}\")\n",
    "        x.append(li[i])\n",
    "print(x)\n",
    "    "
   ]
  },
  {
   "cell_type": "code",
   "execution_count": null,
   "metadata": {},
   "outputs": [],
   "source": [
    "li = [10,76,9,17,25,32,24]\n",
    "for i in li:\n",
    "    newli = []\n",
    "    for j in range(2,i+1):\n",
    "        if i%j==0:\n",
    "            newli.append(j)\n",
    "    print(f\"Factors of {i} is:{newli}\")\n",
    "            \n",
    "    \n",
    "\n"
   ]
  },
  {
   "cell_type": "code",
   "execution_count": null,
   "metadata": {},
   "outputs": [],
   "source": [
    "# 121, \"Madam\", 666\n",
    "\n",
    "value = input(\"Enter Anything...\")\n",
    "if value == value[::-1]:\n",
    "    print(f\"Your Input {value} is an Palindrome\")\n",
    "else:\n",
    "    print(f\"Your Input {value} is not an Palindrome\")\n"
   ]
  },
  {
   "cell_type": "code",
   "execution_count": null,
   "metadata": {},
   "outputs": [],
   "source": [
    "# while loops\n",
    "# initialization\n",
    "# while(condition): \n",
    "#     body of while loop\n",
    "#       steps"
   ]
  },
  {
   "cell_type": "code",
   "execution_count": null,
   "metadata": {},
   "outputs": [],
   "source": [
    "i = 1\n",
    "while(i<=50): #T #F\n",
    "    print(i,end=' ')\n",
    "    i = i+1"
   ]
  },
  {
   "cell_type": "code",
   "execution_count": null,
   "metadata": {},
   "outputs": [],
   "source": [
    "# Armstrong number\n",
    "# 657  = length=3  6**3+5**3+7**3 = 657\n",
    "# 7865 = length=4  7**4+8**4+6**4+5**4 = "
   ]
  },
  {
   "cell_type": "code",
   "execution_count": null,
   "metadata": {},
   "outputs": [],
   "source": [
    "num = int(input(\"enter Any number:\")) #370\n",
    "length = len(str(num))\n",
    "num1 = num\n",
    "som = 0\n",
    "while(num1>0):\n",
    "    rem = num1%10  #0 #7 #3\n",
    "    som = som + (rem**length) #343  #370\n",
    "    num1 = num1//10 #37 #3  #0\n",
    "    print(som)\n",
    "if num==som:\n",
    "    print(f\"{num} is Armstrong Number\")\n",
    "else:\n",
    "    print(f\"{num} is not Armstrong Number\")\n",
    "\n",
    "    \n",
    "    \n"
   ]
  },
  {
   "cell_type": "code",
   "execution_count": null,
   "metadata": {},
   "outputs": [],
   "source": [
    "'''\n",
    "0, 1, 2, 3, 4, 5, 6, 7, 8, 9\n",
    "153, 370, 371, 407\n",
    "1634, 8208, 9474,\n",
    "54748, 92727, 93084\n",
    "548834\n",
    "1741725, 4210818, 9800817, 9926315\n",
    "\n",
    "'''"
   ]
  },
  {
   "cell_type": "code",
   "execution_count": null,
   "metadata": {},
   "outputs": [],
   "source": [
    "print(7**3)"
   ]
  },
  {
   "cell_type": "code",
   "execution_count": null,
   "metadata": {},
   "outputs": [],
   "source": [
    "print(370%10)"
   ]
  },
  {
   "cell_type": "code",
   "execution_count": null,
   "metadata": {},
   "outputs": [],
   "source": [
    "0**1"
   ]
  },
  {
   "cell_type": "code",
   "execution_count": null,
   "metadata": {},
   "outputs": [],
   "source": [
    "3%10\n"
   ]
  },
  {
   "cell_type": "code",
   "execution_count": null,
   "metadata": {},
   "outputs": [],
   "source": [
    "1\n",
    "1 2\n",
    "1 2 3\n",
    "1 2 3 4\n",
    "1 2 3 4 5"
   ]
  },
  {
   "cell_type": "code",
   "execution_count": null,
   "metadata": {},
   "outputs": [],
   "source": [
    "num = int(input(\"Enter the number of rows ou want:\"))\n",
    "for row in range(1,num+1):\n",
    "    for col in range(1,row+1): #(1,3)\n",
    "        print(col,end=' ')\n",
    "    print()\n",
    "        "
   ]
  },
  {
   "cell_type": "code",
   "execution_count": null,
   "metadata": {},
   "outputs": [],
   "source": [
    "num = int(input(\"Enter the number of rows ou want:\"))\n",
    "for row in range(1,num+1):\n",
    "    for col in range(1,row+1): #(1,3)\n",
    "        print(row,end=' ')\n",
    "    print()"
   ]
  },
  {
   "cell_type": "code",
   "execution_count": null,
   "metadata": {},
   "outputs": [],
   "source": [
    "name = \"avanish singh\"\n",
    "for i in name:\n",
    "    if i=='a':\n",
    "        continue\n",
    "    else:\n",
    "        print(i, end='')\n"
   ]
  },
  {
   "cell_type": "code",
   "execution_count": null,
   "metadata": {},
   "outputs": [],
   "source": [
    "name.split('a')"
   ]
  },
  {
   "cell_type": "code",
   "execution_count": null,
   "metadata": {},
   "outputs": [],
   "source": [
    "for i in range(50,101):\n",
    "    for j in range(2,i):\n",
    "        if i%j==0:\n",
    "            break\n",
    "    else:\n",
    "        if i>=70 and i<=80:\n",
    "            continue\n",
    "        else:\n",
    "            print(i)\n",
    "                "
   ]
  },
  {
   "cell_type": "code",
   "execution_count": null,
   "metadata": {},
   "outputs": [],
   "source": [
    "13*7"
   ]
  },
  {
   "cell_type": "code",
   "execution_count": null,
   "metadata": {},
   "outputs": [],
   "source": [
    "# comprehensions\n",
    "# list comprehension\n",
    "# dict comprehension\n"
   ]
  },
  {
   "cell_type": "code",
   "execution_count": null,
   "metadata": {},
   "outputs": [],
   "source": [
    "# res = [result for var in sequence if conditions]  \n",
    "# above syntax is only for one or more for loops and on or more if conditions(nested if)\n",
    "\n",
    "# res = [res_of_if if condition else res_of_else for loop]\n",
    "# above syntax is for one or more than one for loops and if else conditions"
   ]
  },
  {
   "cell_type": "code",
   "execution_count": null,
   "metadata": {},
   "outputs": [],
   "source": [
    "x = [10,20,0,69,100,91,88,83,33,90]\n",
    "res = [i for i in x if i%2!=0]\n",
    "print(res)\n"
   ]
  },
  {
   "cell_type": "code",
   "execution_count": null,
   "metadata": {},
   "outputs": [],
   "source": [
    "x = [10,20,0,69,100,91,88,83,33,90]\n",
    "y = []\n",
    "for i in x:\n",
    "    if i%2!=0:\n",
    "        y.append(i)\n",
    "print(y)"
   ]
  },
  {
   "cell_type": "code",
   "execution_count": null,
   "metadata": {},
   "outputs": [],
   "source": [
    "x = [10,20,0,69,100,91,88,83,33,90]\n",
    "res = [i for i in x if i%2!=0 if i%3==0]\n",
    "print(res)\n"
   ]
  },
  {
   "cell_type": "code",
   "execution_count": null,
   "metadata": {},
   "outputs": [],
   "source": [
    "r =[f\"{i}*{j}={i*j}\" for i in range(10,16) for j in range(1,11)] \n",
    "print(r)"
   ]
  },
  {
   "cell_type": "code",
   "execution_count": null,
   "metadata": {},
   "outputs": [],
   "source": [
    "n = 8\n",
    "r =[f\"{n}*{i}={n*i}\" for i in range(1,11)] \n",
    "print(r)"
   ]
  },
  {
   "cell_type": "code",
   "execution_count": null,
   "metadata": {},
   "outputs": [],
   "source": [
    "x = [i if i%2==0 else \"odd\" for i in range(20,41)]\n",
    "print(x)"
   ]
  },
  {
   "cell_type": "code",
   "execution_count": null,
   "metadata": {},
   "outputs": [],
   "source": [
    "# dict comprehension"
   ]
  },
  {
   "cell_type": "code",
   "execution_count": null,
   "metadata": {},
   "outputs": [],
   "source": [
    "d = {1:\"Avi\", 2:\"Ravi\", 3:\"Vasu\",4:\"Savi\",5:\"Mavi\",6:\"Xavi\"}\n",
    "for i,j in d.items():\n",
    "    if i%2==0:\n",
    "        print(f\"{i}:{d[i]}\")"
   ]
  },
  {
   "cell_type": "code",
   "execution_count": null,
   "metadata": {},
   "outputs": [],
   "source": [
    "d = {1:\"Avi\", 2:\"Ravi\", 3:\"Vasu\",4:\"Savi\",5:\"Mavi\",6:\"Xavi\"}\n",
    "res = {i:j for i,j in d.items() if i%2==0}\n",
    "print(res)"
   ]
  },
  {
   "cell_type": "code",
   "execution_count": null,
   "metadata": {},
   "outputs": [],
   "source": [
    "emp = {1:\"Avi\", 2:\"Ravi\", 3:\"Vasu\",4:\"Savi\",5:\"Mavi\",6:\"Xavi\"}\n",
    "u_search = input(\"Enter the name to search from my dictionary:\")\n",
    "res = {i:j if u_search in j else \"This name is not in my dictionary\" for i,j in emp.items()}\n",
    "print(res)\n"
   ]
  },
  {
   "cell_type": "code",
   "execution_count": null,
   "metadata": {},
   "outputs": [],
   "source": [
    "emp = {1:\"Avi\", 2:\"Ravi\", 3:\"Vasu\",4:\"Savi\",5:\"Mavi\",6:\"Xavi\"}\n",
    "u_search = input(\"Enter the name to search from my dictionary:\")\n",
    "res = {i:j for i,j in emp.items() if u_search in j}\n",
    "print(res)"
   ]
  },
  {
   "cell_type": "code",
   "execution_count": null,
   "metadata": {},
   "outputs": [],
   "source": [
    "# function-2\n",
    "# object oriented programming-3\n",
    "# file handeling-1\n",
    "# exception handeling-1\n",
    "# numpy-2\n",
    "# pandas-3\n",
    "# data visualization\n",
    "# matplotlib-1\n",
    "# seaborn 2\n",
    "# statistics\n",
    "# \n"
   ]
  },
  {
   "cell_type": "code",
   "execution_count": null,
   "metadata": {},
   "outputs": [],
   "source": [
    "# function\n",
    "# user defined\n",
    "# built in function\n"
   ]
  },
  {
   "cell_type": "code",
   "execution_count": null,
   "metadata": {},
   "outputs": [],
   "source": []
  },
  {
   "cell_type": "code",
   "execution_count": null,
   "metadata": {},
   "outputs": [],
   "source": [
    "def vasu(num):  # function protype  # formal parameter  # requirede paramter\n",
    "    f = 1\n",
    "    for i in range(num,0,-1):\n",
    "        f = f*i\n",
    "    print(\"factorial result is:\",f)\n",
    "vasu(5)   # actual value # actual parameter  # function calling  \n",
    "    \n",
    "\n",
    "# function follows bottom up approach\n",
    "        \n",
    "    \n",
    "    "
   ]
  },
  {
   "cell_type": "code",
   "execution_count": null,
   "metadata": {},
   "outputs": [],
   "source": [
    "def vasu(num):  \n",
    "    f = 1\n",
    "    for i in range(num,0,-1):\n",
    "        f = f*i\n",
    "    print(\"factorial result is:\",f)\n",
    "\n",
    "def checkPrime(n):\n",
    "    for j in range(2, n):\n",
    "        if n%j==0:\n",
    "            print(f\"Your number {n} is not a prime number\")\n",
    "            break\n",
    "    else:\n",
    "        print(f\"Your number {n} is a prime number\")\n",
    "\n",
    "x = int(input(\"Enter a number to calculate factorial:\"))        \n",
    "y = int(input(\"Enter a number to check prime number:\"))        \n",
    "vasu(x)\n",
    "checkPrime(y)\n",
    "        \n",
    "     \n",
    "    "
   ]
  },
  {
   "cell_type": "code",
   "execution_count": null,
   "metadata": {},
   "outputs": [],
   "source": [
    "def vasu(num):  \n",
    "    f = 1\n",
    "    for i in range(num,0,-1):\n",
    "        f = f*i\n",
    "    print(\"factorial result is:\",f)\n",
    "\n",
    "def checkPrime(n):\n",
    "    for j in range(2, n):\n",
    "        if n%j==0:\n",
    "            print(f\"Your number {n} is not a prime number\")\n",
    "            break\n",
    "    else:\n",
    "        print(f\"Your number {n} is a prime number\")\n",
    "    \n",
    "    def vasu2(num):  \n",
    "        f = 1\n",
    "        for i in range(num,0,-1):\n",
    "            f = f*i\n",
    "        print(\"factorial result is:\",f)\n",
    "    z = int(input(\"Enter a number to calculate factorial:\"))     \n",
    "    vasu2(z)    \n",
    "\n",
    "x = int(input(\"Enter a number to calculate factorial:\"))        \n",
    "y = int(input(\"Enter a number to check prime number:\"))        \n",
    "vasu(x)\n",
    "checkPrime(y)"
   ]
  },
  {
   "cell_type": "code",
   "execution_count": null,
   "metadata": {},
   "outputs": [],
   "source": [
    "# parameters and there types\n",
    "\n",
    "# required parameter\n",
    "# default parameter\n",
    "# keywords parameter\n",
    "# arbitrary parameter\n"
   ]
  },
  {
   "cell_type": "code",
   "execution_count": null,
   "metadata": {},
   "outputs": [],
   "source": [
    "def cal_simple_interest(p, t, r=5):\n",
    "    res = (p*r*t)/100\n",
    "    print(\"simple interest after 5 years will be:\",res)\n",
    "px = int(input(\"Enter the principle \")) \n",
    "time = int(input(\"Enter the time:\"))\n",
    "cal_simple_interest(px, time)    "
   ]
  },
  {
   "cell_type": "code",
   "execution_count": null,
   "metadata": {},
   "outputs": [],
   "source": [
    "# below is the example of keywords arguments/parameter\n",
    "def cal_simple_interest(p, t, r=5):\n",
    "    res = (p*r*t)/100\n",
    "    print(\"simple interest after 5 years will be:\",res)\n",
    "px = int(input(\"Enter the principle \")) \n",
    "time = int(input(\"Enter the time:\"))\n",
    "cal_simple_interest(t=time,p=px)    "
   ]
  },
  {
   "cell_type": "code",
   "execution_count": null,
   "metadata": {},
   "outputs": [],
   "source": [
    "# example of arbitrary parameter\n",
    "\n",
    "def example_arbitrary(*args):\n",
    "    for i in args:\n",
    "        print(i)\n",
    "example_arbitrary('hello', 'avanish', 'its', 6, 'june',10000, 67.90)\n",
    "    "
   ]
  },
  {
   "cell_type": "code",
   "execution_count": null,
   "metadata": {},
   "outputs": [],
   "source": [
    "# return statement\n",
    "# retuern sends the result to the calling \n",
    "# any statement written after ruturn statement will not be read by the interpreter\n"
   ]
  },
  {
   "cell_type": "code",
   "execution_count": null,
   "metadata": {},
   "outputs": [],
   "source": [
    "def cal_simple_interest(p, t, r=5):\n",
    "    res = (p*r*t)/100\n",
    "    return res\n",
    "px = int(input(\"Enter the principle \")) \n",
    "time = int(input(\"Enter the time:\"))\n",
    "print(\"simple interest is:\",cal_simple_interest(px, time))   "
   ]
  },
  {
   "cell_type": "code",
   "execution_count": null,
   "metadata": {},
   "outputs": [],
   "source": [
    "def cal_simple_interest(p, t, r=5):\n",
    "    res = (p*r*t)/100\n",
    "    return res\n",
    "       \n",
    "px = int(input(\"Enter the principle \")) \n",
    "time = int(input(\"Enter the time:\"))\n",
    "print(\"simple interest is:\",cal_simple_interest(px, time))   "
   ]
  },
  {
   "cell_type": "code",
   "execution_count": null,
   "metadata": {},
   "outputs": [],
   "source": [
    "# local variable\n",
    "# global variable\n"
   ]
  },
  {
   "cell_type": "code",
   "execution_count": null,
   "metadata": {},
   "outputs": [],
   "source": [
    "def LG(x, y, z):  # formal parameters\n",
    "    res = x+y*z\n",
    "    m = x//y\n",
    "    n = res+m+z\n",
    "    print(n)\n",
    "LG(10,9,6)"
   ]
  },
  {
   "cell_type": "code",
   "execution_count": null,
   "metadata": {},
   "outputs": [],
   "source": [
    "def LG(x, y, z):  # formal parameters\n",
    "    res = x+y*z\n",
    "    m = x//y\n",
    "    n = res+m+z\n",
    "    print(n)\n",
    "LG(10,9,6)\n",
    "#print(m) \n",
    "# it will show you error because it is a local variable and you can not use or change a local variable outside a function \n"
   ]
  },
  {
   "cell_type": "code",
   "execution_count": null,
   "metadata": {},
   "outputs": [],
   "source": [
    "name = 'Avanish Singh'\n",
    "def LG(x, y, z):  # formal parameters\n",
    "    res = x+y*z\n",
    "    m = x//y\n",
    "    n = res+m+z\n",
    "    \n",
    "    print(name)  # printing a global variable\n",
    "    \n",
    "    print(n)\n",
    "LG(10,9,6)\n",
    "print(name)  # it will print nmae b'cz name is a global variable\n",
    "# you can use global variable outside a function or inside a function\n"
   ]
  },
  {
   "cell_type": "code",
   "execution_count": null,
   "metadata": {},
   "outputs": [],
   "source": [
    "name = 'Avanish Singh'\n",
    "def LG(x, y, z):  # formal parameters\n",
    "    res = x+y*z\n",
    "    m = x//y\n",
    "    n = res+m+z\n",
    "    #name = name +'Rajwaar'\n",
    "    print(name)  # printing a global variable\n",
    "    \n",
    "    print(n)\n",
    "LG(10,9,6)\n",
    "name = name +' Rajwaar'\n",
    "print(name)  # it will print nmae b'cz name is a global variable\n",
    "# you can use global variable outside a function or inside a function\n"
   ]
  },
  {
   "cell_type": "code",
   "execution_count": null,
   "metadata": {},
   "outputs": [],
   "source": [
    "# see, if you are trying to chnage a global variable outside a function that is perfectly fine\n",
    "# but if you want to chnage a global variable inside a function then you have to decalre it first inside that function\n",
    "# you have to decalre it with the keyword of global"
   ]
  },
  {
   "cell_type": "code",
   "execution_count": null,
   "metadata": {},
   "outputs": [],
   "source": [
    "name = 'Avanish Singh'\n",
    "def LG(x, y, z):  # formal parameters\n",
    "    res = x+y*z\n",
    "    m = x//y\n",
    "    n = res+m+z\n",
    "    global name\n",
    "    name = name +' Rajwaar'\n",
    "    print(name)  # printing a global variable\n",
    "    print(n)\n",
    "LG(10,9,6)\n",
    "print(name) "
   ]
  },
  {
   "cell_type": "markdown",
   "metadata": {},
   "source": [
    "# recersion"
   ]
  },
  {
   "cell_type": "code",
   "execution_count": 1,
   "metadata": {},
   "outputs": [],
   "source": [
    "# when function caslls itself\n",
    "# and that function which calls itself is known as recursive function."
   ]
  },
  {
   "cell_type": "markdown",
   "metadata": {},
   "source": [
    "## factorial program\n"
   ]
  },
  {
   "cell_type": "code",
   "execution_count": 5,
   "metadata": {},
   "outputs": [
    {
     "name": "stdout",
     "output_type": "stream",
     "text": [
      "720\n"
     ]
    }
   ],
   "source": [
    "def factri(num):\n",
    "    if num==0:\n",
    "        return 1\n",
    "    elif num==1:\n",
    "        return 1\n",
    "    else:\n",
    "        return num*factri(num-1)   #recursion\n",
    "\n",
    "print(factri(6))\n"
   ]
  },
  {
   "cell_type": "markdown",
   "metadata": {},
   "source": [
    "##fabinacci series"
   ]
  },
  {
   "cell_type": "markdown",
   "metadata": {},
   "source": [
    "## fabinacci series"
   ]
  },
  {
   "cell_type": "code",
   "execution_count": 6,
   "metadata": {},
   "outputs": [
    {
     "name": "stdout",
     "output_type": "stream",
     "text": [
      "Enter no. of turms:12\n",
      "0\n",
      "1\n",
      "1\n",
      "2\n",
      "3\n",
      "5\n",
      "8\n",
      "13\n",
      "21\n",
      "34\n",
      "55\n",
      "89\n"
     ]
    }
   ],
   "source": [
    "def fabi(turm):\n",
    "    if turm==0:\n",
    "        return 0\n",
    "    elif turm==1:\n",
    "        return 1\n",
    "    else:\n",
    "        return fabi(turm-2)+fabi(turm-1)  # recursion\n",
    "\n",
    "x = int(input(\"Enter no. of turms:\"))\n",
    "for i in range(x):\n",
    "    print(fabi(i))"
   ]
  },
  {
   "cell_type": "markdown",
   "metadata": {},
   "source": [
    "# lambda function"
   ]
  },
  {
   "cell_type": "markdown",
   "metadata": {},
   "source": [
    "# #syntax-:\n"
   ]
  },
  {
   "cell_type": "markdown",
   "metadata": {},
   "source": [
    "## var = lambda no.of arguments:single expression"
   ]
  },
  {
   "cell_type": "code",
   "execution_count": 4,
   "metadata": {},
   "outputs": [
    {
     "name": "stdout",
     "output_type": "stream",
     "text": [
      "2500.0\n"
     ]
    }
   ],
   "source": [
    "res = lambda p,r,t:(p*r*t)/100\n",
    "print(res(10000,5,5))"
   ]
  },
  {
   "cell_type": "markdown",
   "metadata": {},
   "source": [
    "## map()\n"
   ]
  },
  {
   "cell_type": "markdown",
   "metadata": {},
   "source": [
    "## syntax = map(function, sequences)"
   ]
  },
  {
   "cell_type": "code",
   "execution_count": 5,
   "metadata": {},
   "outputs": [
    {
     "name": "stdout",
     "output_type": "stream",
     "text": [
      "[0.6000000000000001, 3.9000000000000004, 2.7, 0.45, 1.1500000000000001, 0.8, 2.0, 1.6500000000000001, 1.0]\n"
     ]
    }
   ],
   "source": [
    "li = [12,78,54,9,23,16,40,33,20]\n",
    "res = list(map(lambda x:(5/100)*x, li))\n",
    "print(res)\n",
    "           "
   ]
  },
  {
   "cell_type": "code",
   "execution_count": 6,
   "metadata": {},
   "outputs": [
    {
     "name": "stdout",
     "output_type": "stream",
     "text": [
      "[True, True, True, False, False, True, True, False, True]\n"
     ]
    }
   ],
   "source": [
    "li = [12,78,54,9,23,16,40,33,20]\n",
    "res2 = list(map(lambda x:x%2==0, li))\n",
    "print(res2)"
   ]
  },
  {
   "cell_type": "markdown",
   "metadata": {},
   "source": [
    "## filter(function, sequences)"
   ]
  },
  {
   "cell_type": "code",
   "execution_count": 7,
   "metadata": {},
   "outputs": [
    {
     "name": "stdout",
     "output_type": "stream",
     "text": [
      "[12, 78, 54, 16, 40, 20]\n"
     ]
    }
   ],
   "source": [
    "li = [12,78,54,9,23,16,40,33,20]\n",
    "res2 = list(filter(lambda x:x%2==0, li))\n",
    "print(res2)"
   ]
  },
  {
   "cell_type": "code",
   "execution_count": 8,
   "metadata": {},
   "outputs": [],
   "source": [
    "# program to remove the duplicates from a list"
   ]
  },
  {
   "cell_type": "code",
   "execution_count": 9,
   "metadata": {},
   "outputs": [
    {
     "name": "stdout",
     "output_type": "stream",
     "text": [
      "[6, 2, 10, 39]\n"
     ]
    }
   ],
   "source": [
    "li = [1,6,8,2,10,1,8,11,39,24,24,1,8,11]\n",
    "res = list(filter(lambda x:li.count(x)==1,li))\n",
    "print(res)\n",
    "\n"
   ]
  },
  {
   "cell_type": "code",
   "execution_count": 10,
   "metadata": {},
   "outputs": [
    {
     "name": "stdout",
     "output_type": "stream",
     "text": [
      "[False, True, False, True, True, False, False, False, True, False, False, False, False, False]\n"
     ]
    }
   ],
   "source": [
    "li = [1,6,8,2,10,1,8,11,39,24,24,1,8,11]\n",
    "res = list(map(lambda x:li.count(x)==1,li))\n",
    "print(res)\n"
   ]
  },
  {
   "cell_type": "code",
   "execution_count": 12,
   "metadata": {},
   "outputs": [
    {
     "name": "stdout",
     "output_type": "stream",
     "text": [
      "[1, 2, 11, 24]\n"
     ]
    }
   ],
   "source": [
    "li1 = [1,6,8,2,10,11,39,24]\n",
    "li2 = [5,9,1,17,33,89,2,11,56,78,43,24]\n",
    "# list(filter(fun,sequnce))\n",
    "# lambda x:x in li, li2\n",
    "res = list(filter(lambda x: x in li1, li2))\n",
    "print(res)\n"
   ]
  },
  {
   "cell_type": "code",
   "execution_count": 15,
   "metadata": {},
   "outputs": [
    {
     "name": "stdout",
     "output_type": "stream",
     "text": [
      "[5.0, 1.5, 0.125, 8.5, 3.3, 8.090909090909092, 0.05128205128205128, 0.4583333333333333]\n"
     ]
    }
   ],
   "source": [
    "li1 = [1,6,8,2,10,11,39,24]\n",
    "li2 = [5,9,1,17,33,89,2,11]\n",
    "res = list(map(lambda x,y:y//x, li1,li2))\n",
    "print(res)"
   ]
  },
  {
   "cell_type": "code",
   "execution_count": 16,
   "metadata": {},
   "outputs": [
    {
     "name": "stdout",
     "output_type": "stream",
     "text": [
      "['ALFRED', 'TABITHA', 'WILLIAM', 'ARLA']\n"
     ]
    }
   ],
   "source": [
    "my_pets = ['alfred', 'tabitha', 'william', 'arla']\n",
    "\n",
    "uppered_pets = list(map(str.upper, my_pets))\n",
    "\n",
    "print(uppered_pets)"
   ]
  },
  {
   "cell_type": "code",
   "execution_count": 17,
   "metadata": {},
   "outputs": [
    {
     "name": "stdout",
     "output_type": "stream",
     "text": [
      "['ALFRED', 'TABITHA', 'WILLIAM', 'ARLA']\n"
     ]
    }
   ],
   "source": [
    "my_pets = ['alfred', 'tabitha', 'william', 'arla']\n",
    "\n",
    "uppered_pets = list(map(lambda x:x.upper(), my_pets))\n",
    "\n",
    "print(uppered_pets)"
   ]
  },
  {
   "cell_type": "code",
   "execution_count": 19,
   "metadata": {},
   "outputs": [
    {
     "name": "stdout",
     "output_type": "stream",
     "text": [
      "Enter something:Hello VASU how are You? Hope You are Good.\n",
      "upper case characters are: 9\n",
      "Lower case characters are: 23\n"
     ]
    }
   ],
   "source": [
    "s = input(\"Enter something:\")\n",
    "c_upper = 0\n",
    "c_lower = 0\n",
    "for i in s:\n",
    "    if i.isupper():\n",
    "        c_upper +=1\n",
    "    elif i.islower():\n",
    "        c_lower +=1\n",
    "    else:\n",
    "        pass\n",
    "print(\"upper case characters are:\",c_upper)\n",
    "print(\"Lower case characters are:\",c_lower)"
   ]
  },
  {
   "cell_type": "code",
   "execution_count": null,
   "metadata": {},
   "outputs": [],
   "source": []
  }
 ],
 "metadata": {
  "kernelspec": {
   "display_name": "Python 3",
   "language": "python",
   "name": "python3"
  },
  "language_info": {
   "codemirror_mode": {
    "name": "ipython",
    "version": 3
   },
   "file_extension": ".py",
   "mimetype": "text/x-python",
   "name": "python",
   "nbconvert_exporter": "python",
   "pygments_lexer": "ipython3",
   "version": "3.8.5"
  }
 },
 "nbformat": 4,
 "nbformat_minor": 4
}
