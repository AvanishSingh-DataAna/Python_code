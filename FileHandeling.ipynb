{
 "cells": [
  {
   "cell_type": "code",
   "execution_count": 1,
   "metadata": {},
   "outputs": [],
   "source": [
    "# file handeling\n",
    "# txt"
   ]
  },
  {
   "cell_type": "code",
   "execution_count": 2,
   "metadata": {},
   "outputs": [],
   "source": [
    "# open\n",
    "# read/write\n",
    "# close\n"
   ]
  },
  {
   "cell_type": "code",
   "execution_count": null,
   "metadata": {},
   "outputs": [],
   "source": [
    "# open()\n",
    "# fileobject = open(\"path_of_file\",\"mode\")"
   ]
  },
  {
   "cell_type": "code",
   "execution_count": null,
   "metadata": {},
   "outputs": [],
   "source": [
    "# text files mode\n",
    "# read-: r\n",
    "# write-: w\n",
    "# append-: a\n",
    "# read-write-: r+\n",
    "# read-append-: a+"
   ]
  },
  {
   "cell_type": "code",
   "execution_count": null,
   "metadata": {},
   "outputs": [],
   "source": [
    "# binary files\n",
    "# read-: rb\n",
    "# write-: wb\n",
    "# append-: ab\n",
    "# read-write-: rb+\n",
    "# read-append-: ab+"
   ]
  },
  {
   "cell_type": "code",
   "execution_count": null,
   "metadata": {},
   "outputs": [],
   "source": []
  },
  {
   "cell_type": "code",
   "execution_count": 3,
   "metadata": {},
   "outputs": [
    {
     "name": "stdout",
     "output_type": "stream",
     "text": [
      "<_io.TextIOWrapper name='C:/Users/avira/Desktop/text_file.txt' mode='r' encoding='cp1252'>\n"
     ]
    }
   ],
   "source": [
    "f = open(\"C:/Users/avira/Desktop/text_file.txt\",\"r\")\n",
    "print(f)"
   ]
  },
  {
   "cell_type": "code",
   "execution_count": 4,
   "metadata": {},
   "outputs": [
    {
     "name": "stdout",
     "output_type": "stream",
     "text": [
      "hello\n",
      "\n",
      "how are you\n",
      "\n",
      "hope you guys doing well. \n",
      "\n",
      "good morning we are learning python programming.\n"
     ]
    }
   ],
   "source": [
    "for i in f:\n",
    "    print(i)"
   ]
  },
  {
   "cell_type": "code",
   "execution_count": 8,
   "metadata": {},
   "outputs": [
    {
     "name": "stdout",
     "output_type": "stream",
     "text": [
      "hello\n",
      "how are you\n",
      "hope you guys doing well. \n",
      "good morning we are learning python programming.\n"
     ]
    }
   ],
   "source": [
    "f = open(\"C:/Users/avira/Desktop/text_file.txt\",\"r\")\n",
    "print(f.read())\n"
   ]
  },
  {
   "cell_type": "code",
   "execution_count": 24,
   "metadata": {},
   "outputs": [],
   "source": [
    "f = open(\"C:/Users/avira/Desktop/text_file.txt\",\"w\")\n",
    "f.write(\"HEllo my name is Python programming language. \\nhow are you \\n\")\n",
    "f.write(\"I am interpreted high level language \\n\")\n",
    "f.write(\"i support procedural, functional and object oriented programming \\n\")\n",
    "f.write(\"i am very popular bcz i save programmer time\")\n",
    "f.close()\n"
   ]
  },
  {
   "cell_type": "code",
   "execution_count": 25,
   "metadata": {},
   "outputs": [
    {
     "name": "stdout",
     "output_type": "stream",
     "text": [
      "HEllo my name is Python programming language. \n",
      "how are you \n",
      "I am interpreted high level language \n",
      "i support procedural, functional and object oriented programming \n",
      "i am very popular bcz i save programmer time\n"
     ]
    }
   ],
   "source": [
    "f = open(\"C:/Users/avira/Desktop/text_file.txt\")\n",
    "print(f.read())"
   ]
  },
  {
   "cell_type": "code",
   "execution_count": 30,
   "metadata": {},
   "outputs": [],
   "source": [
    "f = open(\"C:/Users/avira/Desktop/text_file.txt\",\"a\")\n",
    "f.write('\\nMy name id Avanish Singh\\n')\n",
    "f.write('i am teaching you file handeling in python')\n",
    "f.close()"
   ]
  },
  {
   "cell_type": "code",
   "execution_count": 31,
   "metadata": {},
   "outputs": [
    {
     "name": "stdout",
     "output_type": "stream",
     "text": [
      "HEllo my name is Python programming language. \n",
      "how are you \n",
      "I am interpreted high level language \n",
      "i support procedural, functional and object oriented programming \n",
      "i am very popular bcz i save programmer timeMy name id Avanish Singhi am teaching you file handeling in python\n",
      "My name id Avanish Singh\n",
      "i am teaching you file handeling in python\n",
      "My name id Avanish Singh\n",
      "i am teaching you file handeling in python\n"
     ]
    }
   ],
   "source": [
    "f = open(\"C:/Users/avira/Desktop/text_file.txt\")\n",
    "print(f.read())"
   ]
  },
  {
   "cell_type": "code",
   "execution_count": 32,
   "metadata": {},
   "outputs": [],
   "source": [
    "# readlines()\n",
    "# writeline()\n"
   ]
  },
  {
   "cell_type": "code",
   "execution_count": 37,
   "metadata": {},
   "outputs": [
    {
     "name": "stdout",
     "output_type": "stream",
     "text": [
      "HEllo my name is Pyt\n"
     ]
    }
   ],
   "source": [
    "f = open(\"C:/Users/avira/Desktop/text_file.txt\")\n",
    "print(f.read(20))\n"
   ]
  },
  {
   "cell_type": "code",
   "execution_count": 39,
   "metadata": {},
   "outputs": [
    {
     "name": "stdout",
     "output_type": "stream",
     "text": [
      "HEllo my name is Python programming language. \n",
      "\n"
     ]
    }
   ],
   "source": [
    "f = open(\"C:/Users/avira/Desktop/text_file.txt\")\n",
    "print(f.readline())### by default first line has been read"
   ]
  },
  {
   "cell_type": "code",
   "execution_count": 40,
   "metadata": {},
   "outputs": [
    {
     "name": "stdout",
     "output_type": "stream",
     "text": [
      "HEll\n"
     ]
    }
   ],
   "source": [
    "f = open(\"C:/Users/avira/Desktop/text_file.txt\")\n",
    "print(f.readline(4))             "
   ]
  },
  {
   "cell_type": "code",
   "execution_count": 42,
   "metadata": {},
   "outputs": [
    {
     "name": "stdout",
     "output_type": "stream",
     "text": [
      "['HEllo my name is Python programming language. \\n', 'how are you \\n', 'I am interpreted high level language \\n', 'i support procedural, functional and object oriented programming \\n', 'i am very popular bcz i save programmer timeMy name id Avanish Singhi am teaching you file handeling in python\\n', 'My name id Avanish Singh\\n', 'i am teaching you file handeling in python\\n', 'My name id Avanish Singh\\n', 'i am teaching you file handeling in python\\n', '100,200,300,400,500,600,700,800']\n"
     ]
    }
   ],
   "source": [
    "f = open(\"C:/Users/avira/Desktop/text_file.txt\")\n",
    "print(f.readlines())  # reads your data inside a list as a string"
   ]
  },
  {
   "cell_type": "code",
   "execution_count": 49,
   "metadata": {},
   "outputs": [],
   "source": [
    "li = [\"100\\n\",\"200\\n\",\"300\\n\",\"500\\n\",\"Avanish\\n\",\"ravi\\n\",\"savi\\n\"]\n",
    "f1 = open(\"C:/Users/avira/Desktop/text_file22.txt\",\"w\")\n",
    "f1.writelines(li)\n",
    "f1.close()"
   ]
  },
  {
   "cell_type": "code",
   "execution_count": 50,
   "metadata": {},
   "outputs": [
    {
     "name": "stdout",
     "output_type": "stream",
     "text": [
      "100\n",
      "200\n",
      "300\n",
      "500\n",
      "Avanish\n",
      "ravi\n",
      "savi\n",
      "\n"
     ]
    }
   ],
   "source": [
    "f1 = open(\"C:/Users/avira/Desktop/text_file22.txt\")\n",
    "print(f1.read())"
   ]
  },
  {
   "cell_type": "code",
   "execution_count": 55,
   "metadata": {},
   "outputs": [],
   "source": [
    "f2 = open(\"C:/Users/avira/Desktop/text_file33.txt\",\"w\")\n",
    "f2.write(\"HEllo my name is Python programming language. \\nhow are you \\n\")\n",
    "f2.write(\"I am interpreted high level language \\n\")\n",
    "f2.write(\"i support procedural, functional and object oriented programming \\n\")\n",
    "f2.write(\"i am very popular bcz i save programmer time\")\n",
    "f2.close()"
   ]
  },
  {
   "cell_type": "code",
   "execution_count": 57,
   "metadata": {},
   "outputs": [
    {
     "name": "stdout",
     "output_type": "stream",
     "text": [
      "HEllo my name is Python programming language. \n",
      "how are you \n",
      "I am interpreted high level language \n",
      "i support procedural, functional and object oriented programming \n",
      "i am very popular bcz i save programmer time\n"
     ]
    }
   ],
   "source": [
    "f2 = open(\"C:/Users/avira/Desktop/text_file33.txt\",\"r\")\n",
    "print(f2.read())"
   ]
  },
  {
   "cell_type": "code",
   "execution_count": 58,
   "metadata": {},
   "outputs": [],
   "source": [
    "from PIL import Image\n",
    "  \n",
    "# Read image\n",
    "img = Image.open('D:/figure_no_1.png')\n",
    "  \n",
    "# Output Images\n",
    "img.show()"
   ]
  },
  {
   "cell_type": "code",
   "execution_count": null,
   "metadata": {},
   "outputs": [],
   "source": []
  }
 ],
 "metadata": {
  "kernelspec": {
   "display_name": "Python 3",
   "language": "python",
   "name": "python3"
  },
  "language_info": {
   "codemirror_mode": {
    "name": "ipython",
    "version": 3
   },
   "file_extension": ".py",
   "mimetype": "text/x-python",
   "name": "python",
   "nbconvert_exporter": "python",
   "pygments_lexer": "ipython3",
   "version": "3.8.5"
  }
 },
 "nbformat": 4,
 "nbformat_minor": 4
}
